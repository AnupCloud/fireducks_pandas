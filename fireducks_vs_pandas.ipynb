{
  "nbformat": 4,
  "nbformat_minor": 0,
  "metadata": {
    "colab": {
      "provenance": []
    },
    "kernelspec": {
      "name": "python3",
      "display_name": "Python 3"
    },
    "language_info": {
      "name": "python"
    }
  },
  "cells": [
    {
      "cell_type": "code",
      "source": [
        "# Data can be downloaded from here:\n",
        "!wget -q https://data.rapids.ai/datasets/nyc_parking/nyc_parking_violations_2022.parquet -q"
      ],
      "metadata": {
        "id": "i_A1fjZ5cu5Z"
      },
      "execution_count": null,
      "outputs": []
    },
    {
      "cell_type": "code",
      "source": [
        "!pip install fireducks -q"
      ],
      "metadata": {
        "colab": {
          "base_uri": "https://localhost:8080/"
        },
        "id": "tkJeMskFaWdC",
        "outputId": "411244d4-a843-4bf2-fc08-6a9d90eace32"
      },
      "execution_count": null,
      "outputs": [
        {
          "output_type": "stream",
          "name": "stdout",
          "text": [
            "\u001b[2K   \u001b[90m━━━━━━━━━━━━━━━━━━━━━━━━━━━━━━━━━━━━━━━━\u001b[0m \u001b[32m7.2/7.2 MB\u001b[0m \u001b[31m25.4 MB/s\u001b[0m eta \u001b[36m0:00:00\u001b[0m\n",
            "\u001b[2K   \u001b[90m━━━━━━━━━━━━━━━━━━━━━━━━━━━━━━━━━━━━━━━━\u001b[0m \u001b[32m42.1/42.1 MB\u001b[0m \u001b[31m9.2 MB/s\u001b[0m eta \u001b[36m0:00:00\u001b[0m\n",
            "\u001b[?25h\u001b[31mERROR: pip's dependency resolver does not currently take into account all the packages that are installed. This behaviour is the source of the following dependency conflicts.\n",
            "cudf-cu12 24.12.0 requires pyarrow<19.0.0a0,>=14.0.0; platform_machine == \"x86_64\", but you have pyarrow 19.0.0 which is incompatible.\n",
            "pylibcudf-cu12 24.12.0 requires pyarrow<19.0.0a0,>=14.0.0; platform_machine == \"x86_64\", but you have pyarrow 19.0.0 which is incompatible.\u001b[0m\u001b[31m\n",
            "\u001b[0m"
          ]
        }
      ]
    },
    {
      "cell_type": "code",
      "source": [
        "%load_ext fireducks.pandas\n",
        "import pandas as pd"
      ],
      "metadata": {
        "id": "nYMvJtPbanas"
      },
      "execution_count": null,
      "outputs": []
    },
    {
      "cell_type": "code",
      "source": [
        "import fireducks.pandas as pd\n",
        "\n",
        "df = pd.DataFrame({\n",
        "    'category': ['A', 'B', 'C', 'D'] * 250_000,\n",
        "    'value': range(1_000_000)\n",
        "})"
      ],
      "metadata": {
        "id": "m7afo9aYacrX"
      },
      "execution_count": null,
      "outputs": []
    },
    {
      "cell_type": "code",
      "source": [
        "df"
      ],
      "metadata": {
        "colab": {
          "base_uri": "https://localhost:8080/",
          "height": 424
        },
        "id": "fSLNDTZ_ajnl",
        "outputId": "a5ff27af-233d-4c2b-c51e-0e4ae5e10bff"
      },
      "execution_count": null,
      "outputs": [
        {
          "output_type": "display_data",
          "data": {
            "text/html": [
              "<div>\n",
              "<style scoped>\n",
              "    .dataframe tbody tr th:only-of-type {\n",
              "        vertical-align: middle;\n",
              "    }\n",
              "\n",
              "    .dataframe tbody tr th {\n",
              "        vertical-align: top;\n",
              "    }\n",
              "\n",
              "    .dataframe thead th {\n",
              "        text-align: right;\n",
              "    }\n",
              "</style>\n",
              "<table border=\"1\" class=\"dataframe\">\n",
              "  <thead>\n",
              "    <tr style=\"text-align: right;\">\n",
              "      <th></th>\n",
              "      <th>category</th>\n",
              "      <th>value</th>\n",
              "    </tr>\n",
              "  </thead>\n",
              "  <tbody>\n",
              "    <tr>\n",
              "      <th>0</th>\n",
              "      <td>A</td>\n",
              "      <td>0</td>\n",
              "    </tr>\n",
              "    <tr>\n",
              "      <th>1</th>\n",
              "      <td>B</td>\n",
              "      <td>1</td>\n",
              "    </tr>\n",
              "    <tr>\n",
              "      <th>2</th>\n",
              "      <td>C</td>\n",
              "      <td>2</td>\n",
              "    </tr>\n",
              "    <tr>\n",
              "      <th>3</th>\n",
              "      <td>D</td>\n",
              "      <td>3</td>\n",
              "    </tr>\n",
              "    <tr>\n",
              "      <th>4</th>\n",
              "      <td>A</td>\n",
              "      <td>4</td>\n",
              "    </tr>\n",
              "    <tr>\n",
              "      <th>...</th>\n",
              "      <td>...</td>\n",
              "      <td>...</td>\n",
              "    </tr>\n",
              "    <tr>\n",
              "      <th>999995</th>\n",
              "      <td>D</td>\n",
              "      <td>999995</td>\n",
              "    </tr>\n",
              "    <tr>\n",
              "      <th>999996</th>\n",
              "      <td>A</td>\n",
              "      <td>999996</td>\n",
              "    </tr>\n",
              "    <tr>\n",
              "      <th>999997</th>\n",
              "      <td>B</td>\n",
              "      <td>999997</td>\n",
              "    </tr>\n",
              "    <tr>\n",
              "      <th>999998</th>\n",
              "      <td>C</td>\n",
              "      <td>999998</td>\n",
              "    </tr>\n",
              "    <tr>\n",
              "      <th>999999</th>\n",
              "      <td>D</td>\n",
              "      <td>999999</td>\n",
              "    </tr>\n",
              "  </tbody>\n",
              "</table>\n",
              "<p>1000000 rows × 2 columns</p>\n",
              "</div>"
            ]
          },
          "metadata": {}
        }
      ]
    },
    {
      "cell_type": "code",
      "source": [
        "import pandas as ab\n",
        "\n",
        "df1 = ab.DataFrame({\n",
        "    'category': ['A', 'B', 'C', 'D'] * 250_000,\n",
        "    'value': range(1_000_000)\n",
        "})"
      ],
      "metadata": {
        "id": "ikvPW1z0a_uS"
      },
      "execution_count": null,
      "outputs": []
    },
    {
      "cell_type": "code",
      "source": [
        "df1.head()"
      ],
      "metadata": {
        "colab": {
          "base_uri": "https://localhost:8080/",
          "height": 206
        },
        "id": "6aT7qzytbc39",
        "outputId": "5dd43a96-fd79-459d-ef34-b9a5084b4740"
      },
      "execution_count": null,
      "outputs": [
        {
          "output_type": "display_data",
          "data": {
            "text/html": [
              "<div>\n",
              "<style scoped>\n",
              "    .dataframe tbody tr th:only-of-type {\n",
              "        vertical-align: middle;\n",
              "    }\n",
              "\n",
              "    .dataframe tbody tr th {\n",
              "        vertical-align: top;\n",
              "    }\n",
              "\n",
              "    .dataframe thead th {\n",
              "        text-align: right;\n",
              "    }\n",
              "</style>\n",
              "<table border=\"1\" class=\"dataframe\">\n",
              "  <thead>\n",
              "    <tr style=\"text-align: right;\">\n",
              "      <th></th>\n",
              "      <th>category</th>\n",
              "      <th>value</th>\n",
              "    </tr>\n",
              "  </thead>\n",
              "  <tbody>\n",
              "    <tr>\n",
              "      <th>0</th>\n",
              "      <td>A</td>\n",
              "      <td>0</td>\n",
              "    </tr>\n",
              "    <tr>\n",
              "      <th>1</th>\n",
              "      <td>B</td>\n",
              "      <td>1</td>\n",
              "    </tr>\n",
              "    <tr>\n",
              "      <th>2</th>\n",
              "      <td>C</td>\n",
              "      <td>2</td>\n",
              "    </tr>\n",
              "    <tr>\n",
              "      <th>3</th>\n",
              "      <td>D</td>\n",
              "      <td>3</td>\n",
              "    </tr>\n",
              "    <tr>\n",
              "      <th>4</th>\n",
              "      <td>A</td>\n",
              "      <td>4</td>\n",
              "    </tr>\n",
              "  </tbody>\n",
              "</table>\n",
              "</div>"
            ]
          },
          "metadata": {}
        }
      ]
    },
    {
      "cell_type": "markdown",
      "source": [
        "# Running the code with some sample data along with time comparison between fireducks vs pandas\n"
      ],
      "metadata": {
        "id": "ojEehLHCjbuK"
      }
    },
    {
      "cell_type": "code",
      "source": [
        "import time\n",
        "import timeit\n",
        "\n",
        "# Measure the time taken to import the libraries\n",
        "start_import_fireducks = time.time()\n",
        "import fireducks.pandas as pd\n",
        "end_import_fireducks = time.time()\n",
        "fireducks_import_time = end_import_fireducks - start_import_fireducks\n",
        "\n",
        "start_import_pandas = time.time()\n",
        "import pandas as ab\n",
        "end_import_pandas = time.time()\n",
        "pandas_import_time = end_import_pandas - start_import_pandas\n",
        "\n",
        "# Function to create the DataFrame using fireducks.pandas\n",
        "def create_fireducks_df():\n",
        "    return pd.DataFrame({\n",
        "        'category': ['A', 'B', 'C', 'D'] * 250_000,\n",
        "        'value': range(1_000_000)\n",
        "    })\n",
        "\n",
        "# Function to create the DataFrame using pandas\n",
        "def create_pandas_df():\n",
        "    return ab.DataFrame({\n",
        "        'category': ['A', 'B', 'C', 'D'] * 250_000,\n",
        "        'value': range(1_000_000)\n",
        "    })\n",
        "\n",
        "# Measure execution time for DataFrame creation using timeit\n",
        "fireducks_creation_time = timeit.timeit(create_fireducks_df, number=1)\n",
        "pandas_creation_time = timeit.timeit(create_pandas_df, number=1)\n",
        "\n",
        "# Print results\n",
        "print(f\"Time taken to import fireducks.pandas: {fireducks_import_time:.6f} seconds\")\n",
        "print(f\"Time taken to import pandas: {pandas_import_time:.6f} seconds\")\n",
        "print(f\"Time taken to create DataFrame with fireducks.pandas: {fireducks_creation_time:.6f} seconds\")\n",
        "print(f\"Time taken to create DataFrame with pandas: {pandas_creation_time:.6f} seconds\")"
      ],
      "metadata": {
        "colab": {
          "base_uri": "https://localhost:8080/"
        },
        "id": "bDvFNqD0bfnV",
        "outputId": "da3c8591-849e-49fb-a947-fcde037dd3f8"
      },
      "execution_count": 3,
      "outputs": [
        {
          "output_type": "stream",
          "name": "stdout",
          "text": [
            "Time taken to import fireducks.pandas: 0.000052 seconds\n",
            "Time taken to import pandas: 0.000039 seconds\n",
            "Time taken to create DataFrame with fireducks.pandas: 0.360670 seconds\n",
            "Time taken to create DataFrame with pandas: 0.044766 seconds\n"
          ]
        }
      ]
    },
    {
      "cell_type": "markdown",
      "source": [
        "# Running the code to load the parquet file downloaded [link](https://data.rapids.ai/datasets/nyc_parking/nyc_parking_violations_2022.parquet) along with time comparison between fireducks vs pandas\n"
      ],
      "metadata": {
        "id": "gdccesASjjfa"
      }
    },
    {
      "cell_type": "code",
      "source": [
        "import time\n",
        "import timeit\n",
        "import pandas as pd\n",
        "import fireducks.pandas as fpd\n",
        "\n",
        "# Local path of the large Parquet file\n",
        "PARQUET_PATH = \"/content/nyc_parking_violations_2022.parquet\"\n",
        "\n",
        "# Measure the time taken to import the libraries\n",
        "def measure_import_time(module_name):\n",
        "    start_time = time.time()\n",
        "    __import__(module_name)\n",
        "    return time.time() - start_time\n",
        "\n",
        "fireducks_import_time = measure_import_time(\"fireducks.pandas\")\n",
        "pandas_import_time = measure_import_time(\"pandas\")\n",
        "\n",
        "# Function to load the Parquet file using fireducks.pandas\n",
        "def load_fireducks_parquet():\n",
        "    return fpd.read_parquet(PARQUET_PATH)\n",
        "\n",
        "# Function to load the Parquet file using pandas\n",
        "def load_pandas_parquet():\n",
        "    return pd.read_parquet(PARQUET_PATH)\n",
        "\n",
        "# Measure execution time for loading Parquet file\n",
        "fireducks_load_time = timeit.timeit(load_fireducks_parquet, number=1)\n",
        "pandas_load_time = timeit.timeit(load_pandas_parquet, number=1)\n",
        "\n",
        "# Print results\n",
        "print(f\"Time taken to import fireducks.pandas: {fireducks_import_time:.6f} seconds\")\n",
        "print(f\"Time taken to import pandas: {pandas_import_time:.6f} seconds\")\n",
        "print(f\"Time taken to load Parquet file with fireducks.pandas: {fireducks_load_time:.6f} seconds\")\n",
        "print(f\"Time taken to load Parquet file with pandas: {pandas_load_time:.6f} seconds\")"
      ],
      "metadata": {
        "colab": {
          "base_uri": "https://localhost:8080/"
        },
        "id": "jsgvI8eqb595",
        "outputId": "fd097184-8fb0-4cc6-c2b8-66c8cc1e3a79"
      },
      "execution_count": null,
      "outputs": [
        {
          "output_type": "stream",
          "name": "stdout",
          "text": [
            "Time taken to import fireducks.pandas: 0.000002 seconds\n",
            "Time taken to import pandas: 0.000001 seconds\n",
            "Time taken to load Parquet file with fireducks.pandas: 0.102790 seconds\n",
            "Time taken to load Parquet file with pandas: 36.340968 seconds\n"
          ]
        }
      ]
    },
    {
      "cell_type": "code",
      "source": [],
      "metadata": {
        "id": "79tg6dXnc11R"
      },
      "execution_count": null,
      "outputs": []
    }
  ]
}